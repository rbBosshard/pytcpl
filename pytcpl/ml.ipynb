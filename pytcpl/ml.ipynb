{
 "cells": [
  {
   "attachments": {},
   "cell_type": "markdown",
   "metadata": {},
   "source": [
    "# ML pipeline for a single assay endpoint"
   ]
  },
  {
   "attachments": {},
   "cell_type": "markdown",
   "metadata": {},
   "source": [
    "### Imports"
   ]
  },
  {
   "cell_type": "code",
   "execution_count": 27,
   "metadata": {},
   "outputs": [],
   "source": [
    "import os\n",
    "import yaml\n",
    "import time\n",
    "import pandas as pd\n",
    "import matplotlib.pyplot as plt\n",
    "\n",
    "from sklearn import metrics\n",
    "from sklearn.metrics import classification_report, confusion_matrix\n",
    "from sklearn.model_selection import RepeatedStratifiedKFold, train_test_split\n",
    "from imblearn.over_sampling import SMOTE\n",
    "from sklearn.pipeline import Pipeline\n",
    "from sklearn.model_selection import GridSearchCV\n",
    "from sklearn.feature_selection import SelectKBest, VarianceThreshold\n",
    "from sklearn.decomposition import PCA\n",
    "\n",
    "from sklearn.neighbors import KNeighborsClassifier\n",
    "from sklearn.svm import SVC\n",
    "from sklearn.naive_bayes import GaussianNB\n",
    "from sklearn.neural_network import MLPClassifier\n",
    "from sklearn.ensemble import RandomForestClassifier, AdaBoostClassifier\n",
    "from xgboost import XGBClassifier\n"
   ]
  },
  {
   "attachments": {},
   "cell_type": "markdown",
   "metadata": {},
   "source": [
    "### Load assay endpoint and QSAR-ready chemical structure fingerprints\n",
    "Note: Many chemicals from assays do not have a fingerprint -> small training data"
   ]
  },
  {
   "cell_type": "code",
   "execution_count": 28,
   "metadata": {},
   "outputs": [
    {
     "ename": "KeyError",
     "evalue": "Index(['dtxsid'], dtype='object')",
     "output_type": "error",
     "traceback": [
      "\u001b[1;31m---------------------------------------------------------------------------\u001b[0m",
      "\u001b[1;31mKeyError\u001b[0m                                  Traceback (most recent call last)",
      "\u001b[1;32m~\\AppData\\Local\\Temp\\ipykernel_20376\\2101360757.py\u001b[0m in \u001b[0;36m?\u001b[1;34m()\u001b[0m\n\u001b[0;32m     30\u001b[0m \u001b[0mfps_df\u001b[0m \u001b[1;33m=\u001b[0m \u001b[0mpd\u001b[0m\u001b[1;33m.\u001b[0m\u001b[0mDataFrame\u001b[0m\u001b[1;33m(\u001b[0m\u001b[0mdata\u001b[0m\u001b[1;33m=\u001b[0m\u001b[0mdata\u001b[0m\u001b[1;33m,\u001b[0m \u001b[0mindex\u001b[0m\u001b[1;33m=\u001b[0m\u001b[0mindex\u001b[0m\u001b[1;33m,\u001b[0m \u001b[0mcolumns\u001b[0m\u001b[1;33m=\u001b[0m\u001b[0mcolumns\u001b[0m\u001b[1;33m)\u001b[0m\u001b[1;33m.\u001b[0m\u001b[0mreset_index\u001b[0m\u001b[1;33m(\u001b[0m\u001b[0mdrop\u001b[0m\u001b[1;33m=\u001b[0m\u001b[1;32mTrue\u001b[0m\u001b[1;33m)\u001b[0m\u001b[1;33m\u001b[0m\u001b[1;33m\u001b[0m\u001b[0m\n\u001b[0;32m     31\u001b[0m \u001b[0mfps_df\u001b[0m \u001b[1;33m=\u001b[0m \u001b[0mfps_df\u001b[0m\u001b[1;33m.\u001b[0m\u001b[0mrename\u001b[0m\u001b[1;33m(\u001b[0m\u001b[0mcolumns\u001b[0m\u001b[1;33m=\u001b[0m\u001b[1;33m{\u001b[0m\u001b[1;34m\"index\"\u001b[0m\u001b[1;33m:\u001b[0m \u001b[1;34m\"dtxsid\"\u001b[0m\u001b[1;33m}\u001b[0m\u001b[1;33m)\u001b[0m\u001b[1;33m\u001b[0m\u001b[1;33m\u001b[0m\u001b[0m\n\u001b[0;32m     32\u001b[0m \u001b[1;33m\u001b[0m\u001b[0m\n\u001b[0;32m     33\u001b[0m \u001b[1;31m# Drop the duplicates in the fingerprint dataframe\u001b[0m\u001b[1;33m\u001b[0m\u001b[1;33m\u001b[0m\u001b[0m\n\u001b[1;32m---> 34\u001b[1;33m \u001b[0mfps_df\u001b[0m \u001b[1;33m=\u001b[0m \u001b[0mfps_df\u001b[0m\u001b[1;33m.\u001b[0m\u001b[0mdrop_duplicates\u001b[0m\u001b[1;33m(\u001b[0m\u001b[0msubset\u001b[0m\u001b[1;33m=\u001b[0m\u001b[1;34m\"dtxsid\"\u001b[0m\u001b[1;33m)\u001b[0m\u001b[1;33m\u001b[0m\u001b[1;33m\u001b[0m\u001b[0m\n\u001b[0m\u001b[0;32m     35\u001b[0m \u001b[1;31m# which fingerprints should be dropped with the same dtxsid? identical or not? double check\u001b[0m\u001b[1;33m\u001b[0m\u001b[1;33m\u001b[0m\u001b[0m\n\u001b[0;32m     36\u001b[0m \u001b[1;33m\u001b[0m\u001b[0m\n\u001b[0;32m     37\u001b[0m \u001b[1;31m# Get the intersection of the two dataframes\u001b[0m\u001b[1;33m\u001b[0m\u001b[1;33m\u001b[0m\u001b[0m\n",
      "\u001b[1;32mc:\\Users\\bossh\\anaconda3\\envs\\pytcpl\\Lib\\site-packages\\pandas\\core\\frame.py\u001b[0m in \u001b[0;36m?\u001b[1;34m(self, subset, keep, inplace, ignore_index)\u001b[0m\n\u001b[0;32m   6518\u001b[0m \u001b[1;33m\u001b[0m\u001b[0m\n\u001b[0;32m   6519\u001b[0m         \u001b[0minplace\u001b[0m \u001b[1;33m=\u001b[0m \u001b[0mvalidate_bool_kwarg\u001b[0m\u001b[1;33m(\u001b[0m\u001b[0minplace\u001b[0m\u001b[1;33m,\u001b[0m \u001b[1;34m\"inplace\"\u001b[0m\u001b[1;33m)\u001b[0m\u001b[1;33m\u001b[0m\u001b[1;33m\u001b[0m\u001b[0m\n\u001b[0;32m   6520\u001b[0m         \u001b[0mignore_index\u001b[0m \u001b[1;33m=\u001b[0m \u001b[0mvalidate_bool_kwarg\u001b[0m\u001b[1;33m(\u001b[0m\u001b[0mignore_index\u001b[0m\u001b[1;33m,\u001b[0m \u001b[1;34m\"ignore_index\"\u001b[0m\u001b[1;33m)\u001b[0m\u001b[1;33m\u001b[0m\u001b[1;33m\u001b[0m\u001b[0m\n\u001b[0;32m   6521\u001b[0m \u001b[1;33m\u001b[0m\u001b[0m\n\u001b[1;32m-> 6522\u001b[1;33m         \u001b[0mresult\u001b[0m \u001b[1;33m=\u001b[0m \u001b[0mself\u001b[0m\u001b[1;33m[\u001b[0m\u001b[1;33m-\u001b[0m\u001b[0mself\u001b[0m\u001b[1;33m.\u001b[0m\u001b[0mduplicated\u001b[0m\u001b[1;33m(\u001b[0m\u001b[0msubset\u001b[0m\u001b[1;33m,\u001b[0m \u001b[0mkeep\u001b[0m\u001b[1;33m=\u001b[0m\u001b[0mkeep\u001b[0m\u001b[1;33m)\u001b[0m\u001b[1;33m]\u001b[0m\u001b[1;33m\u001b[0m\u001b[1;33m\u001b[0m\u001b[0m\n\u001b[0m\u001b[0;32m   6523\u001b[0m         \u001b[1;32mif\u001b[0m \u001b[0mignore_index\u001b[0m\u001b[1;33m:\u001b[0m\u001b[1;33m\u001b[0m\u001b[1;33m\u001b[0m\u001b[0m\n\u001b[0;32m   6524\u001b[0m             \u001b[0mresult\u001b[0m\u001b[1;33m.\u001b[0m\u001b[0mindex\u001b[0m \u001b[1;33m=\u001b[0m \u001b[0mdefault_index\u001b[0m\u001b[1;33m(\u001b[0m\u001b[0mlen\u001b[0m\u001b[1;33m(\u001b[0m\u001b[0mresult\u001b[0m\u001b[1;33m)\u001b[0m\u001b[1;33m)\u001b[0m\u001b[1;33m\u001b[0m\u001b[1;33m\u001b[0m\u001b[0m\n\u001b[0;32m   6525\u001b[0m \u001b[1;33m\u001b[0m\u001b[0m\n",
      "\u001b[1;32mc:\\Users\\bossh\\anaconda3\\envs\\pytcpl\\Lib\\site-packages\\pandas\\core\\frame.py\u001b[0m in \u001b[0;36m?\u001b[1;34m(self, subset, keep)\u001b[0m\n\u001b[0;32m   6650\u001b[0m         \u001b[1;31m# Otherwise, raise a KeyError, same as if you try to __getitem__ with a\u001b[0m\u001b[1;33m\u001b[0m\u001b[1;33m\u001b[0m\u001b[0m\n\u001b[0;32m   6651\u001b[0m         \u001b[1;31m# key that doesn't exist.\u001b[0m\u001b[1;33m\u001b[0m\u001b[1;33m\u001b[0m\u001b[0m\n\u001b[0;32m   6652\u001b[0m         \u001b[0mdiff\u001b[0m \u001b[1;33m=\u001b[0m \u001b[0mset\u001b[0m\u001b[1;33m(\u001b[0m\u001b[0msubset\u001b[0m\u001b[1;33m)\u001b[0m \u001b[1;33m-\u001b[0m \u001b[0mset\u001b[0m\u001b[1;33m(\u001b[0m\u001b[0mself\u001b[0m\u001b[1;33m.\u001b[0m\u001b[0mcolumns\u001b[0m\u001b[1;33m)\u001b[0m\u001b[1;33m\u001b[0m\u001b[1;33m\u001b[0m\u001b[0m\n\u001b[0;32m   6653\u001b[0m         \u001b[1;32mif\u001b[0m \u001b[0mdiff\u001b[0m\u001b[1;33m:\u001b[0m\u001b[1;33m\u001b[0m\u001b[1;33m\u001b[0m\u001b[0m\n\u001b[1;32m-> 6654\u001b[1;33m             \u001b[1;32mraise\u001b[0m \u001b[0mKeyError\u001b[0m\u001b[1;33m(\u001b[0m\u001b[0mIndex\u001b[0m\u001b[1;33m(\u001b[0m\u001b[0mdiff\u001b[0m\u001b[1;33m)\u001b[0m\u001b[1;33m)\u001b[0m\u001b[1;33m\u001b[0m\u001b[1;33m\u001b[0m\u001b[0m\n\u001b[0m\u001b[0;32m   6655\u001b[0m \u001b[1;33m\u001b[0m\u001b[0m\n\u001b[0;32m   6656\u001b[0m         \u001b[1;32mif\u001b[0m \u001b[0mlen\u001b[0m\u001b[1;33m(\u001b[0m\u001b[0msubset\u001b[0m\u001b[1;33m)\u001b[0m \u001b[1;33m==\u001b[0m \u001b[1;36m1\u001b[0m \u001b[1;32mand\u001b[0m \u001b[0mself\u001b[0m\u001b[1;33m.\u001b[0m\u001b[0mcolumns\u001b[0m\u001b[1;33m.\u001b[0m\u001b[0mis_unique\u001b[0m\u001b[1;33m:\u001b[0m\u001b[1;33m\u001b[0m\u001b[1;33m\u001b[0m\u001b[0m\n\u001b[0;32m   6657\u001b[0m             \u001b[1;31m# GH#45236 This is faster than get_group_index below\u001b[0m\u001b[1;33m\u001b[0m\u001b[1;33m\u001b[0m\u001b[0m\n",
      "\u001b[1;31mKeyError\u001b[0m: Index(['dtxsid'], dtype='object')"
     ]
    }
   ],
   "source": [
    "# Define the root directory\n",
    "ROOT_DIR = os.path.dirname(os.path.abspath(\"__file__\"))\n",
    "CONFIG_PATH = os.path.join(ROOT_DIR, 'config', 'config_ml.yaml')\n",
    "\n",
    "\n",
    "def load_config(config_path):\n",
    "    with open(config_path, 'r') as file:\n",
    "        config = yaml.safe_load(file)\n",
    "        if config[\"ignore_warnings\"]:\n",
    "            import warnings\n",
    "            warnings.filterwarnings(\"ignore\")\n",
    "\n",
    "    return config  \n",
    "\n",
    " \n",
    "config = load_config(CONFIG_PATH)\n",
    "\n",
    "# Define the file paths\n",
    "assay_file_path = os.path.join(ROOT_DIR, \"export\", \"out\", f\"{config['aeid']}.csv\")\n",
    "fps_file_path = os.path.join(ROOT_DIR, 'input', 'ToxCast_CSIfps.csv')  # df_sirius_fps, ToxCast_CSIfps\n",
    "\n",
    "# Read the CSV files\n",
    "assay_df = pd.read_csv(assay_file_path)\n",
    "fps_df = pd.read_csv(fps_file_path).iloc[:, 3:].T\n",
    "\n",
    "data = fps_df.iloc[1:].values.astype(int)\n",
    "index = fps_df.index[1:]\n",
    "columns = fps_df.iloc[0]\n",
    "\n",
    "fps_df = pd.DataFrame(data=data, index=index, columns=columns).reset_index(drop=True)\n",
    "fps_df = fps_df.rename(columns={\"index\": \"dtxsid\"})\n",
    "\n",
    "# Drop the duplicates in the fingerprint dataframe\n",
    "fps_df = fps_df.drop_duplicates(subset=\"dtxsid\")  \n",
    "# which fingerprints should be dropped with the same dtxsid? identical or not? double check\n",
    "\n",
    "# Get the intersection of the two dataframes\n",
    "df = pd.merge(assay_df, fps_df, on=\"dtxsid\").reset_index(drop=True)\n",
    "\n",
    "print(f\"ML pipeline for assay ID: {config['aeid']}\\n\")\n",
    "print(f\"Fingerprint dataframe shape: {fps_df.shape}\")\n",
    "print(f\"Assay dataframe, total: {assay_df.shape[0]} chemical/hitcall datapoints\")\n",
    "print(f\"{assay_df['hitc'].value_counts()}\\n\")\n",
    "print(f\"Number of datapoints for this ML pipeline: {df['dtxsid'].nunique()}\\n\")\n"
   ]
  },
  {
   "attachments": {},
   "cell_type": "markdown",
   "metadata": {},
   "source": [
    "### Split data into train and test sets"
   ]
  },
  {
   "cell_type": "code",
   "execution_count": null,
   "metadata": {},
   "outputs": [
    {
     "name": "stdout",
     "output_type": "stream",
     "text": [
      "Label Counts TOTAL: 7611 datapoints\n",
      "hitc\n",
      "False    7239\n",
      "True      372\n",
      "Name: count, dtype: int64\n",
      "\n",
      "Label Counts TRAIN: 6088 datapoints\n",
      "hitc\n",
      "False    5790\n",
      "True      298\n",
      "Name: count, dtype: int64\n",
      "\n",
      "Label Counts TEST: 1523 datapoints\n",
      "hitc\n",
      "False    1449\n",
      "True       74\n",
      "Name: count, dtype: int64\n",
      "\n",
      "Label Counts TRAIN (after oversampling): 11580 datapoints\n",
      "hitc\n",
      "False    5790\n",
      "True     5790\n",
      "Name: count, dtype: int64\n",
      "\n"
     ]
    }
   ],
   "source": [
    "config = load_config(CONFIG_PATH)\n",
    "\n",
    "# Split the data into features (X) and labels (y)\n",
    "X = df.iloc[:, 2:]  # Select all columns, starting from the third column (fingerprint features)\n",
    "y = df['hitc']  \n",
    "\n",
    "# Split the data into train and test sets before oversampling to avoid data leakage\n",
    "X_train, X_test, y_train, y_test = train_test_split(X,\n",
    "                                                    y,\n",
    "                                                    test_size=config['train_test_split_ratio'],\n",
    "                                                    random_state=config['random_state'],\n",
    "                                                    shuffle=True, # shuffle the data before splitting (default)\n",
    "                                                    stratify=y) # stratify to ensure the same class distribution in the train and test sets\n",
    "\n",
    "print(f\"Label Counts TOTAL: {len(y)} datapoints\")\n",
    "print(f\"{y.value_counts()}\\n\")\n",
    "print(f\"Label Counts TRAIN: {len(y_train)} datapoints\")\n",
    "print(f\"{y_train.value_counts()}\\n\")\n",
    "print(f\"Label Counts TEST: {len(y_test)} datapoints\")\n",
    "print(f\"{y_test.value_counts()}\\n\")\n",
    "\n",
    "# Perform SMOTE oversampling? within the nested cross-validation loop with hyper-parameter tuning?\n",
    "if config['apply']['smote']:\n",
    "    oversampler = SMOTE(random_state=config['random_state'])\n",
    "    X_train, y_train = oversampler.fit_resample(X_train, y_train)\n",
    "\n",
    "\n",
    "print(f\"Label Counts TRAIN (after oversampling): {len(y_train)} datapoints\")\n",
    "print(f\"{y_train.value_counts()}\\n\")"
   ]
  },
  {
   "attachments": {},
   "cell_type": "markdown",
   "metadata": {},
   "source": [
    "### Build classifier pipeline"
   ]
  },
  {
   "cell_type": "code",
   "execution_count": null,
   "metadata": {},
   "outputs": [],
   "source": [
    "config = load_config(CONFIG_PATH)\n",
    "\n",
    "# build for each classifier a pipeline with the steps defined in the config file\n",
    "def build_pipeline(steps):\n",
    "    pipeline_steps = []\n",
    "    for step in steps:\n",
    "        step_name = step['name']  \n",
    "        step_args = step.get('args', {}) # get the hyperparameters for the step, if any\n",
    "        step_instance = globals()[step_name](**step_args)  # dynmically create an instance of the step\n",
    "        pipeline_steps.append((step_name, step_instance))  \n",
    "    return Pipeline(pipeline_steps)\n",
    "\n",
    "\n",
    "def build_param_grid(classifier_steps):\n",
    "    param_grid = {}\n",
    "    for step in classifier_steps:\n",
    "        step_name = step['name']\n",
    "        step_args = step.get('args', {})\n",
    "        param_grid.update({f'{step_name}__{key}': value for key, value in step_args.items() if isinstance(value, list)})\n",
    "    return param_grid\n",
    "\n",
    "\n",
    "def grid_search_cv(classifier, pipeline):\n",
    "    grid_search = GridSearchCV(pipeline, \n",
    "                               param_grid=build_param_grid(classifier['steps']),\n",
    "                               cv=RepeatedStratifiedKFold(n_splits=5, n_repeats=3, random_state=config['random_state']), # outer grid: 5-fold cross-validation repeated 3 times\n",
    "                               scoring=config[\"grid_search_cv\"][\"scoring\"], # macro f1 score, beta?\n",
    "                               n_jobs=config[\"grid_search_cv\"][\"n_jobs\"],\n",
    "                               verbose=config[\"grid_search_cv\"][\"verbose\"],\n",
    "                               ).fit(X_train, y_train)\n",
    "    \n",
    "    print(f\"{classifier['name']}: GridSearchCV Results:\")\n",
    "    best_params = grid_search.best_params_ if grid_search.best_params_ else \"default\"\n",
    "    print(f\"Best params:\\n{best_params} with mean cross-validated score: {grid_search.best_score_}\\n\")\n",
    "\n",
    "    return grid_search\n",
    "    \n",
    "\n",
    "def predict_and_report(classifier, best_estimator):\n",
    "    print(f\"Predict..\")\n",
    "    y_pred = best_estimator.predict(X_test)\n",
    "\n",
    "    labels = [True, False] \n",
    "    print(f\"Classification Report {classifier['name']}:\")\n",
    "    print(classification_report(y_test, y_pred, labels=labels))\n",
    "\n",
    "    cm = confusion_matrix(y_test, y_pred, labels=labels)\n",
    "    tn, fp, fn, tp = cm.ravel()   # Extract values from confusion matrix\n",
    "    print(f\"Total: {len(y_test)} datapoints\")\n",
    "    print(f\"Ground truth: {tn + fp} positive, {tp + fn} negative\")\n",
    "    print(f\"Prediction: {tn + fn} positive, {tp + fp} negative\")\n",
    "\n",
    "    cm_display = metrics.ConfusionMatrixDisplay(confusion_matrix = cm, display_labels = [\"Positive\", \"Negative\"])\n",
    "    cm_display.plot()\n",
    "    plt.title(f\"Confusion Matrix for {classifier['name']}\")\n",
    "    plt.show()\n",
    "    "
   ]
  },
  {
   "attachments": {},
   "cell_type": "markdown",
   "metadata": {},
   "source": [
    "### Pipeline: Grid Search CV + Prediction + Classification report"
   ]
  },
  {
   "cell_type": "code",
   "execution_count": 29,
   "metadata": {},
   "outputs": [
    {
     "name": "stdout",
     "output_type": "stream",
     "text": [
      "Fitting 15 folds for each of 1 candidates, totalling 15 fits\n",
      "XGBClassifier: GridSearchCV Results:\n",
      "Best params:\n",
      "default with mean cross-validated score: 0.974496257915947\n",
      "\n",
      "Predict..\n",
      "Classification Report XGBClassifier:\n",
      "              precision    recall  f1-score   support\n",
      "\n",
      "        True       0.45      0.47      0.46        74\n",
      "       False       0.97      0.97      0.97      1449\n",
      "\n",
      "    accuracy                           0.95      1523\n",
      "   macro avg       0.71      0.72      0.72      1523\n",
      "weighted avg       0.95      0.95      0.95      1523\n",
      "\n",
      "Total: 1523 datapoints\n",
      "Ground truth: 74 positive, 1449 negative\n",
      "Prediction: 78 positive, 1445 negative\n"
     ]
    },
    {
     "data": {
      "image/png": "[encoded data removed]",
      "text/plain": [
       "<Figure size 640x480 with 2 Axes>"
      ]
     },
     "metadata": {},
     "output_type": "display_data"
    },
    {
     "name": "stdout",
     "output_type": "stream",
     "text": [
      "Done: XGBClassifier >> 190.33 seconds.\n",
      "___________________________________________________________________________\n",
      "\n",
      "\n",
      "Done. Total time >> 190.33 seconds.\n",
      "\n"
     ]
    }
   ],
   "source": [
    "config = load_config(CONFIG_PATH)\n",
    "\n",
    "total_time_start = time.time()\n",
    "\n",
    "for classifier in config['classifiers']:\n",
    "    start_time = time.time()\n",
    "    \n",
    "    # Build the pipeline for the current classifier\n",
    "    pipeline = build_pipeline(classifier['steps'])\n",
    "\n",
    "    # Perform grid search on the extracted hyperparameters\n",
    "    grid_search = grid_search_cv(classifier, pipeline)\n",
    "\n",
    "    # Predict on the test set and best estimator\n",
    "    predict_and_report(classifier, grid_search.best_estimator_)\n",
    "\n",
    "    print(f\"Done: {classifier['name']} >> {round(time.time() - start_time, 2)} seconds.\\n{'_' * 75}\\n\\n\")\n",
    "\n",
    "print(f\"Done. Total time >> {round(time.time() - total_time_start, 2)} seconds.\\n\")\n",
    "    "
   ]
  }
 ],
 "metadata": {
  "kernelspec": {
   "display_name": "pytcpl",
   "language": "python",
   "name": "python3"
  },
  "language_info": {
   "codemirror_mode": {
    "name": "ipython",
    "version": 3
   },
   "file_extension": ".py",
   "mimetype": "text/x-python",
   "name": "python",
   "nbconvert_exporter": "python",
   "pygments_lexer": "ipython3",
   "version": "3.11.3"
  },
  "orig_nbformat": 4
 },
 "nbformat": 4,
 "nbformat_minor": 2
}
