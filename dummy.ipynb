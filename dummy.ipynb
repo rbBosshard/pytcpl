{
 "cells": [
  {
   "cell_type": "code",
   "execution_count": 6,
   "metadata": {},
   "outputs": [
    {
     "name": "stdout",
     "output_type": "stream",
     "text": [
      "        cnst    poly\n",
      "aic       10       1\n",
      "pars  [3, 2]  [1, 2]\n"
     ]
    }
   ],
   "source": [
    "import pandas as pd\n",
    "import numpy as np\n",
    "\n",
    "dat  = pd.DataFrame({'cnst': {'aic': 10, 'pars': [3,2]}, 'poly': {'aic': 1, 'pars': [1,2]}},)\n",
    "dat.na\n",
    "ok = dat.groupby(\"aic\")[\"model_val\"].apply(float).to_dict()\n",
    "\n",
    "\n",
    "print(ok)\n"
   ]
  },
  {
   "cell_type": "code",
   "execution_count": 10,
   "metadata": {},
   "outputs": [
    {
     "name": "stdout",
     "output_type": "stream",
     "text": [
      "[-0.08719742 -0.04302023]\n",
      "[ True False False False False False False False False False  True False\n",
      " False False False False False False False False]\n",
      "unique_conc: [  0.4   0.8   2.    3.    6.   10.   20.   50.  100.  200. ]\n",
      "rmds: [-0.06510883 -0.07387629 -0.06849232 -0.03248968 -0.01268481  0.02123379\n",
      "  0.09056218  0.08811359  0.03042898  0.01044171]\n"
     ]
    }
   ],
   "source": [
    "import numpy as np\n",
    "\n",
    "conc = np.array([3.999999999999996336e-01,8.000000000000000444e-01,1.999999999999998890e+00,2.999999999999996891e+00,6.000000000000004441e+00,1.000000000000000000e+01,1.999999999999993960e+01,5.000000000000014921e+01,1.000000000000000000e+02,1.999999999999994031e+02,3.999999999999996336e-01,8.000000000000000444e-01,1.999999999999998890e+00,2.999999999999996891e+00,6.000000000000004441e+00,1.000000000000000000e+01,1.999999999999993960e+01,5.000000000000014921e+01,1.000000000000000000e+02,1.999999999999994031e+02]\n",
    ")\n",
    "resp = np.array([-8.719742146944760297e-02,-9.774991736179880486e-02,-8.214393665277350265e-02,-3.453826475927609940e-02,-1.762364938756379867e-02,-1.759740068589209921e-02,-6.070877762257729723e-03,-8.248708765747840566e-03,-3.684346960251209946e-02,-4.811079652096880016e-02,-4.302022902260770054e-02,-5.000267262723299966e-02,-5.484071064052099820e-02,-3.044109952831459964e-02,-7.745970823357150280e-03,6.006498515677900080e-02,1.871952371310240115e-01,1.844758965745199875e-01,9.770142644693470546e-02,6.899421757964109558e-02]\n",
    ")\n",
    "unique_conc = np.unique(conc)\n",
    "\n",
    "print(resp[conc == unique_conc[0]])\n",
    "print(conc == unique_conc[0])\n",
    "\n",
    "print(f\"unique_conc: {unique_conc}\")    \n",
    "rmds = np.array([np.median(resp[conc == c]) for c in unique_conc])\n",
    "print(f\"rmds: {rmds}\")"
   ]
  },
  {
   "cell_type": "code",
   "execution_count": 9,
   "metadata": {},
   "outputs": [
    {
     "name": "stdout",
     "output_type": "stream",
     "text": [
      "am: -3\n"
     ]
    }
   ],
   "source": [
    "conc = np.array([1,2,-3])\n",
    "am = conc[np.argmax(np.abs(conc))]\n",
    "# am = np.max(np.abs(conc))\n",
    "print(f\"am: {am}\")\n"
   ]
  },
  {
   "cell_type": "code",
   "execution_count": 35,
   "metadata": {},
   "outputs": [
    {
     "name": "stdout",
     "output_type": "stream",
     "text": [
      "[1. 1.]\n"
     ]
    }
   ],
   "source": [
    "import numpy as np\n",
    "import scipy.linalg as la\n",
    "import matplotlib.pyplot as plt\n",
    "import scipy.optimize as opt\n",
    "\n",
    "hess = np.array([[1, 2], [0, 1]])\n",
    "\n",
    "\n",
    "cov = np.linalg.inv(hess)\n",
    "diag_sqrt = np.sqrt(np.diag(cov))\n",
    "print(diag_sqrt)\n",
    "\n",
    "\n",
    "# function definition\n",
    "def f(x):\n",
    "    return np.cos(x[0]) + np.sin(x[1])\n",
    "\n",
    "# # Jacobian of function\n",
    "# def Jf(x):\n",
    "#     return np.array([-np.sin(x[0]), np.cos(x[1])])\n",
    "# np.random.seed(0)\n",
    "# x0 = np.random.rand(2)\n",
    "# print(x0)\n",
    "\n",
    "# %time sol1 = opt.minimize(f, x0)\n",
    "# print(sol1)"
   ]
  },
  {
   "cell_type": "code",
   "execution_count": 29,
   "metadata": {},
   "outputs": [
    {
     "ename": "TypeError",
     "evalue": "'int' object is not iterable",
     "output_type": "error",
     "traceback": [
      "\u001b[1;31m---------------------------------------------------------------------------\u001b[0m",
      "\u001b[1;31mTypeError\u001b[0m                                 Traceback (most recent call last)",
      "Cell \u001b[1;32mIn[29], line 2\u001b[0m\n\u001b[0;32m      1\u001b[0m \u001b[39mid\u001b[39m \u001b[39m=\u001b[39m \u001b[39m5\u001b[39m\n\u001b[1;32m----> 2\u001b[0m \u001b[39mid\u001b[39m \u001b[39m=\u001b[39m \u001b[39mlist\u001b[39m(\u001b[39mmap\u001b[39;49m(\u001b[39mstr\u001b[39;49m, \u001b[39mid\u001b[39;49m))\n\u001b[0;32m      4\u001b[0m \u001b[39mprint\u001b[39m(\u001b[39mid\u001b[39m)\n",
      "\u001b[1;31mTypeError\u001b[0m: 'int' object is not iterable"
     ]
    }
   ],
   "source": [
    "id = 5\n",
    "id = list(map(str, id))\n",
    " \n",
    "print(id)"
   ]
  },
  {
   "cell_type": "code",
   "execution_count": 22,
   "metadata": {},
   "outputs": [
    {
     "name": "stdout",
     "output_type": "stream",
     "text": [
      "coff = [1, 2, 0.3]\n",
      "           A  B          C\n",
      "0  [0, 1, 2]  1  [a, b, c]\n",
      "1        foo  1        NaN\n",
      "2         []  1         []\n",
      "3     [3, 4]  1     [d, e]\n",
      "______________________\n",
      "[3]\n"
     ]
    }
   ],
   "source": [
    "import pandas as pd\n",
    "import numpy as np\n",
    "\n",
    "\n",
    "coff = [1,2]\n",
    "e1 = f\"coff = {coff + [0.3]}\"\n",
    "print(e1)\n",
    "\n",
    "df = pd.DataFrame({'A': [[0, 1, 2], 'foo', [], [3, 4]],\n",
    "                   'B': 1,\n",
    "                   'C': [['a', 'b', 'c'], np.nan, [], ['d', 'e']]})\n",
    "print(df)\n",
    "# exploded = df.explode('A')\n",
    "# print(exploded)\n",
    "\n",
    "\n",
    "def mc5_mthds():\n",
    "    return {\n",
    "        'bmad3': lambda df: df['B'].aggregate(lambda x: x.unique()*3),\n",
    "    }\n",
    "\n",
    "dict = mc5_mthds()\n",
    "\n",
    "f = dict['bmad3']\n",
    "print(\"______________________\")\n",
    "print(f(df = df))\n",
    "\n",
    "# print(mc5_mthds(df)['bmad3'])\n",
    "\n",
    "# df.apply(lambda x: x.A.apply(pd.Series.explode))"
   ]
  },
  {
   "cell_type": "code",
   "execution_count": null,
   "metadata": {},
   "outputs": [],
   "source": [
    "import numpy as np\n",
    "import pandas as pd\n",
    "from scipy.stats import t, norm\n",
    "from mad import mad\n",
    "\n",
    "def f(err): \n",
    "  return np.sum(t.logpdf((resp - mu) / err, df=4) - np.log(err))\n",
    "\n",
    "cnst = [1,2,3,4,5]\n",
    "resp = [1,2,3,4,6]\n",
    "mu = np.zeros(len(cnst))\n",
    "er_est = np.log(rmad) if (rmad := mad(resp)) > 0 else np.log(1e-32)\n",
    "p = np.exp(er_est)\n",
    "print(np.log(p))\n",
    "print(f(p))"
   ]
  },
  {
   "cell_type": "code",
   "execution_count": null,
   "metadata": {},
   "outputs": [],
   "source": [
    "technologies = {\n",
    "    'Courses':[\"Spark\",\"PySpark\",\"Python\",\"pandas\"],\n",
    "    'Fee' :[20000,25000,22000,30000],\n",
    "    'Duration':['30days','40days','35days','50days'],\n",
    "    'Discount':[1000,2300,1200,2000]}\n",
    "df = pd.DataFrame(technologies)\n",
    "print(df)\n",
    "# Below are quick examples.\n",
    "# Insert list into cell using df.at().\n",
    "# df.at[1, 'Duration'] = {\"h\":1}#['30days', '35days']\n",
    "print(df)\n",
    "# # Insert list index into cell by df.iat() method.\n",
    "# df.iat[1, df.columns.get_loc('Duration')] = ['30days', '35days']\n",
    "# # Get list index into cell using df.loc() attribute.\n",
    "df.loc[:, 'new'] = [ {\"a\":1}, {\"b\":2}, {\"c\":3}, {\"d\":4}]\n",
    "print(df)"
   ]
  },
  {
   "cell_type": "code",
   "execution_count": null,
   "metadata": {},
   "outputs": [],
   "source": [
    "qformat = \"SELECT m4id, aeid, tmpi FROM mc4 WHERE aeid IN ({})\"\n",
    "ids = df[\"Courses\"].unique()\n",
    "qstring = qformat.format(\",\".join([\"'\" + str(i) + \"'\" for i in ids]))\n",
    "print(qstring)"
   ]
  },
  {
   "cell_type": "code",
   "execution_count": null,
   "metadata": {},
   "outputs": [],
   "source": [
    "import yaml\n",
    "with open(\"config.yaml\", \"r\") as f:\n",
    "    config = yaml.load(f, Loader=yaml.FullLoader)\n",
    "print(config['DATABASE']['USERNAME'])"
   ]
  },
  {
   "cell_type": "code",
   "execution_count": null,
   "metadata": {},
   "outputs": [],
   "source": [
    "import os\n",
    "mb = \".\".join([os.getlogin()])\n",
    "print(mb)"
   ]
  },
  {
   "cell_type": "code",
   "execution_count": null,
   "metadata": {},
   "outputs": [],
   "source": [
    "qformat = \"SELECT m5id, m4id, aeid FROM mc5 WHERE aeid IN (%s);\"\n",
    "ids = [1,2,3,4,5]\n",
    "qstring = qformat % \",\".join('\"' + str(id) + '\"' for id in ids)\n",
    "print(qstring)"
   ]
  }
 ],
 "metadata": {
  "kernelspec": {
   "display_name": "base",
   "language": "python",
   "name": "python3"
  },
  "language_info": {
   "codemirror_mode": {
    "name": "ipython",
    "version": 3
   },
   "file_extension": ".py",
   "mimetype": "text/x-python",
   "name": "python",
   "nbconvert_exporter": "python",
   "pygments_lexer": "ipython3",
   "version": "3.10.9"
  },
  "orig_nbformat": 4
 },
 "nbformat": 4,
 "nbformat_minor": 2
}
