{
 "cells": [
  {
   "cell_type": "code",
   "execution_count": null,
   "metadata": {},
   "outputs": [],
   "source": [
    "import numpy as np\n",
    "import pandas as pd\n",
    "from scipy.stats import t, norm\n",
    "from mad import mad"
   ]
  },
  {
   "cell_type": "code",
   "execution_count": null,
   "metadata": {},
   "outputs": [],
   "source": [
    "def f(err): \n",
    "  return np.sum(t.logpdf((resp - mu) / err, df=4) - np.log(err))\n",
    "\n",
    "cnst = [1,2,3,4,5]\n",
    "resp = [1,2,3,4,6]\n",
    "mu = np.zeros(len(cnst))\n",
    "er_est = np.log(rmad) if (rmad := mad(resp)) > 0 else np.log(1e-32)\n",
    "p = np.exp(er_est)\n",
    "print(np.log(p))\n",
    "print(f(p))"
   ]
  },
  {
   "cell_type": "code",
   "execution_count": null,
   "metadata": {},
   "outputs": [],
   "source": [
    "technologies = {\n",
    "    'Courses':[\"Spark\",\"PySpark\",\"Python\",\"pandas\"],\n",
    "    'Fee' :[20000,25000,22000,30000],\n",
    "    'Duration':['30days','40days','35days','50days'],\n",
    "    'Discount':[1000,2300,1200,2000]}\n",
    "df = pd.DataFrame(technologies)\n",
    "print(df)\n",
    "# Below are quick examples.\n",
    "# Insert list into cell using df.at().\n",
    "# df.at[1, 'Duration'] = {\"h\":1}#['30days', '35days']\n",
    "print(df)\n",
    "# # Insert list index into cell by df.iat() method.\n",
    "# df.iat[1, df.columns.get_loc('Duration')] = ['30days', '35days']\n",
    "# # Get list index into cell using df.loc() attribute.\n",
    "df.loc[:, 'new'] = [ {\"a\":1}, {\"b\":2}, {\"c\":3}, {\"d\":4}]\n",
    "print(df)"
   ]
  },
  {
   "cell_type": "code",
   "execution_count": null,
   "metadata": {},
   "outputs": [],
   "source": [
    "qformat = \"SELECT m4id, aeid, tmpi FROM mc4 WHERE aeid IN ({})\"\n",
    "ids = df[\"Courses\"].unique()\n",
    "qstring = qformat.format(\",\".join([\"'\" + str(i) + \"'\" for i in ids]))\n",
    "print(qstring)"
   ]
  },
  {
   "cell_type": "code",
   "execution_count": null,
   "metadata": {},
   "outputs": [],
   "source": [
    "import yaml\n",
    "with open(\"config.yaml\", \"r\") as f:\n",
    "    config = yaml.load(f, Loader=yaml.FullLoader)\n",
    "print(config['DATABASE']['USERNAME'])"
   ]
  },
  {
   "cell_type": "code",
   "execution_count": null,
   "metadata": {},
   "outputs": [],
   "source": [
    "import os\n",
    "mb = \".\".join([os.getlogin()])\n",
    "print(mb)"
   ]
  },
  {
   "cell_type": "code",
   "execution_count": null,
   "metadata": {},
   "outputs": [],
   "source": [
    "qformat = \"SELECT m5id, m4id, aeid FROM mc5 WHERE aeid IN (%s);\"\n",
    "ids = [1,2,3,4,5]\n",
    "qstring = qformat % \",\".join('\"' + str(id) + '\"' for id in ids)\n",
    "print(qstring)"
   ]
  }
 ],
 "metadata": {
  "kernelspec": {
   "display_name": "base",
   "language": "python",
   "name": "python3"
  },
  "language_info": {
   "codemirror_mode": {
    "name": "ipython",
    "version": 3
   },
   "file_extension": ".py",
   "mimetype": "text/x-python",
   "name": "python",
   "nbconvert_exporter": "python",
   "pygments_lexer": "ipython3",
   "version": "3.10.9"
  },
  "orig_nbformat": 4
 },
 "nbformat": 4,
 "nbformat_minor": 2
}
